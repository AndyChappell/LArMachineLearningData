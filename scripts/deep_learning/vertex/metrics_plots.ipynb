{
 "cells": [
  {
   "cell_type": "markdown",
   "metadata": {},
   "source": [
    "# Reference\n",
    "[uproot documentation](https://uproot.readthedocs.io/en/latest/)"
   ]
  },
  {
   "cell_type": "code",
   "execution_count": null,
   "metadata": {},
   "outputs": [],
   "source": [
    "def make_sequential(obj):\n",
    "    seq_events = np.zeros_like(obj.event)\n",
    "    seq_events[0] = obj.event[0]\n",
    "    seq_event = 0\n",
    "    seq_files = np.zeros_like(obj.event)\n",
    "    seq_files[0] = obj.event[0]\n",
    "    seq_file = 0\n",
    "    for i in range(1, len(obj.event)):\n",
    "        if obj.event[i] != obj.event[i - 1]:\n",
    "            seq_event += 1\n",
    "        if obj.event[i] < obj.event[i - 1]:\n",
    "            seq_file += 1\n",
    "        seq_events[i] = seq_event\n",
    "        seq_files[i] = seq_file\n",
    "    obj.event = seq_events\n",
    "    obj.file = seq_files"
   ]
  },
  {
   "cell_type": "code",
   "execution_count": null,
   "metadata": {},
   "outputs": [],
   "source": [
    "import uproot, numpy as np\n",
    "\n",
    "class MCValidation:\n",
    "    def __init__(self, filename, treename):\n",
    "        file = uproot.open(filename)\n",
    "        tree = file[treename]\n",
    "        self.event = tree['event'].array(library=\"np\") #linear list of events\n",
    "        self.orig_event = tree[\"event\"].array(library=\"np\") #actual event number\n",
    "        self.file = np.zeros_like(self.event)\n",
    "        self.mc_id = tree[\"mcId\"].array(library=\"np\") #number of mc particles in event\n",
    "        self.mc_pdg = tree[\"mcPDG\"].array(library=\"np\") #pdg code of particles in each event\n",
    "        self.mc_tier = tree[\"mcTier\"].array(library=\"np\") #Which tier each event is folded back to\n",
    "        self.mc_nhits = tree[\"mcNHits\"].array(library=\"np\") #number of mc particles hits in event\n",
    "        is_nu_int = tree[\"isNuInteration\"].array(library=\"np\") #not functioning\n",
    "        is_cr_int = tree[\"isCosmicRay\"].array(library=\"np\") #not functioning\n",
    "        is_tb_int = tree[\"isTestBeam\"].array(library=\"np\") #not functioning\n",
    "        self.environment = np.full(is_nu_int.shape, \"??\") #not functioning\n",
    "        self.environment[np.where(is_nu_int)] = \"nu\" #not functioning\n",
    "        self.environment[np.where(is_cr_int)] = \"tb\" #not functioning\n",
    "        self.environment[np.where(is_tb_int)] = \"cr\" #not functioning\n",
    "        self.is_leading_lepton = tree[\"isLeadingLepton\"].array(library=\"np\")\n",
    "        self.is_michel = tree[\"isMichel\"].array(library=\"np\")\n",
    "        self.n_matches = tree[\"nMatches\"].array(library=\"np\")\n",
    "        self.reco_id_list = tree[\"recoIdVector\"].array(library=\"np\")\n",
    "        self.reco_nhits_list = tree[\"nRecoHitsVector\"].array(library=\"np\")\n",
    "        self.shared_nhits_list = tree[\"nSharedHitsVector\"].array(library=\"np\")\n",
    "        self.purity_adc_list = tree[\"purityAdcVector\"].array(library=\"np\")\n",
    "        self.purity_list = tree[\"purityVector\"].array(library=\"np\")\n",
    "        self.purity_list_u = tree[\"purityVectorU\"].array(library=\"np\")\n",
    "        self.purity_list_v = tree[\"purityVectorV\"].array(library=\"np\")\n",
    "        self.purity_list_w = tree[\"purityVectorW\"].array(library=\"np\")\n",
    "        self.purity_adc_list_u = tree[\"purityAdcVectorU\"].array(library=\"np\")\n",
    "        self.purity_adc_list_v = tree[\"purityAdcVectorV\"].array(library=\"np\")\n",
    "        self.purity_adc_list_w = tree[\"purityAdcVectorW\"].array(library=\"np\")\n",
    "        self.completeness_list = tree[\"completenessVector\"].array(library=\"np\")\n",
    "        self.completeness_adc_list = tree[\"completenessAdcVector\"].array(library=\"np\")\n",
    "        self.completeness_list_u = tree[\"completenessVectorU\"].array(library=\"np\")\n",
    "        self.completeness_list_v = tree[\"completenessVectorV\"].array(library=\"np\")\n",
    "        self.completeness_list_w = tree[\"completenessVectorW\"].array(library=\"np\")\n",
    "        self.completeness_adc_list_u = tree[\"completenessAdcVectorU\"].array(library=\"np\")\n",
    "        self.completeness_adc_list_v = tree[\"completenessAdcVectorV\"].array(library=\"np\")\n",
    "        self.completeness_adc_list_w = tree[\"completenessAdcVectorW\"].array(library=\"np\")\n",
    "        self.pc_metric = self.purity_adc_list * self.completeness_adc_list\n",
    "        file.close()\n",
    "        make_sequential(self)"
   ]
  },
  {
   "cell_type": "code",
   "execution_count": null,
   "metadata": {},
   "outputs": [],
   "source": [
    "import os\n",
    "\n",
    "def save_plot(fig, filename, subdir=None):\n",
    "    if subdir is None:\n",
    "        subdir = \"\"\n",
    "    elif subdir.startswith(\"/\"):\n",
    "        subdir = subdir[1:]\n",
    "        \n",
    "    if not os.path.exists('images'):\n",
    "        os.mkdir('images')\n",
    "    for img_type in [ \"png\", \"svg\", \"eps\" ]:\n",
    "        if not os.path.exists(f'images/{img_type}'):\n",
    "            os.mkdir(f'images/{img_type}')\n",
    "        if not os.path.exists(f'images/{img_type}/{subdir}'):\n",
    "            os.mkdir(f'images/{img_type}/{subdir}')\n",
    "        fig.savefig(f'images/{img_type}/{subdir}/{filename}.{img_type}', dpi=200)"
   ]
  },
  {
   "cell_type": "markdown",
   "metadata": {},
   "source": [
    "# Reading data"
   ]
  },
  {
   "cell_type": "code",
   "execution_count": null,
   "metadata": {},
   "outputs": [],
   "source": [
    "validation = MCValidation(\"hierarchy_mc.root\", \"mc\")"
   ]
  },
  {
   "cell_type": "code",
   "execution_count": null,
   "metadata": {},
   "outputs": [],
   "source": [
    "pdg = 11"
   ]
  },
  {
   "cell_type": "code",
   "execution_count": null,
   "metadata": {},
   "outputs": [],
   "source": [
    "idx = np.where(abs(validation.mc_pdg) == pdg)\n",
    "# temp to test\n",
    "#idx = np.where((abs(validation.mc_pdg) == pdg) & ((validation.mc_nhits >= 14) & (validation.mc_nhits <= 15)))\n",
    "\n",
    "completeness = validation.completeness_list[idx]\n",
    "purity = validation.purity_list[idx]\n",
    "mc_nhits = validation.mc_nhits[idx]\n",
    "n_matches = validation.n_matches[idx]\n",
    "\n",
    "index_array = [ np.argmax(val) if len(val) > 0 else -1 for val in completeness ] \n",
    "completeness_unique_array = np.array([ np.max(val) if len(val) > 0 else 0 for val in completeness ])\n",
    "purity_unique_array = np.array([ purity[i][index_array[i]] if index_array[i] != -1 else 0 for i in range(len(purity)) ])"
   ]
  },
  {
   "cell_type": "code",
   "execution_count": null,
   "metadata": {},
   "outputs": [],
   "source": [
    "def prepare_plot(metric, mc_nhits, bin_width=3, metric_type='purity_completeness'):\n",
    "    highest_hit = np.max(mc_nhits)\n",
    "    x_axis = np.linspace(0, highest_hit, highest_hit + 1)\n",
    "    y_array = np.zeros(highest_hit + 1)\n",
    "    low_error_array = np.zeros_like(y_array)\n",
    "    high_error_array = np.zeros_like(y_array)\n",
    "    \n",
    "    all_indices = [ np.where((mc_nhits >= i) & (mc_nhits < (i + bin_width))) for i in range((highest_hit + 1)) ]\n",
    "    for val in range(0, highest_hit + 1, bin_width):\n",
    "        if len(all_indices[val][0]) > 0:\n",
    "            selection = metric[all_indices[val]]\n",
    "            if metric_type.lower() == 'purity_completeness':\n",
    "                y_array[val] = np.mean(selection)\n",
    "                low_error_array[val] = np.zeros_like(y_array[val])#np.std(selection)\n",
    "                high_error_array[val] = np.zeros_like(y_array[val])#np.std(selection)\n",
    "            else:\n",
    "                y_array[val] = np.mean(selection)\n",
    "                low_error_array[val] = high_error_array[val] = np.sqrt(y_array[val] * (1 - y_array[val]) / len(selection))\n",
    "        else:\n",
    "            y_array[val] = -1\n",
    "\n",
    "    y_array = y_array[::bin_width]\n",
    "    x_axis = x_axis[::bin_width]\n",
    "    low_error_array = low_error_array[::bin_width]\n",
    "    high_error_array = high_error_array[::bin_width]\n",
    "    \n",
    "    selection_idx = np.where(y_array != -1)\n",
    "    y_array = y_array[selection_idx]\n",
    "    x_axis = x_axis[selection_idx]\n",
    "    low_error_array = low_error_array[selection_idx]\n",
    "    high_error_array = high_error_array[selection_idx]\n",
    "    error_array = np.array(list(zip(low_error_array, high_error_array))).T\n",
    "    \n",
    "    return x_axis, y_array, error_array"
   ]
  },
  {
   "cell_type": "code",
   "execution_count": null,
   "metadata": {},
   "outputs": [],
   "source": [
    "import matplotlib.pyplot as plt\n",
    "\n",
    "def plot_metric(x, y, err, metric=\"completeness\"):\n",
    "    plt.figure(figsize=(20, 15))\n",
    "    plt.errorbar(x, y, xerr=bin_width / 2, yerr = err, fmt='o', markersize = '2', color='r', elinewidth=0.5, label = \"Electron reconstruction\")\n",
    "    plt.xlabel(\"Num true hits\")\n",
    "    plt.ylabel(metric)\n",
    "    plt.title(metric.title())\n",
    "    plt.ylim(0,1.01)\n",
    "    plt.rcParams[\"figure.figsize\"] = (13,8)\n",
    "    plt.show()"
   ]
  },
  {
   "cell_type": "code",
   "execution_count": null,
   "metadata": {},
   "outputs": [],
   "source": [
    "bin_width = 3\n",
    "x, y, err = prepare_plot(completeness_unique_array, mc_nhits, bin_width)\n",
    "plot_metric(x, y, err, \"completeness\")"
   ]
  },
  {
   "cell_type": "code",
   "execution_count": null,
   "metadata": {},
   "outputs": [],
   "source": [
    "x, y, err = prepare_plot(purity_unique_array, mc_nhits, bin_width)\n",
    "plot_metric(x, y, err, \"purity\")"
   ]
  },
  {
   "cell_type": "code",
   "execution_count": null,
   "metadata": {},
   "outputs": [],
   "source": [
    "efficiency_unique_array = np.array((completeness_unique_array >= 0.5) & (purity_unique_array >= 0.5))"
   ]
  },
  {
   "cell_type": "code",
   "execution_count": null,
   "metadata": {},
   "outputs": [],
   "source": [
    "x, y, err = prepare_plot(efficiency_unique_array, mc_nhits, bin_width, metric_type=\"efficiency\")\n",
    "plot_metric(x, y, err, \"efficiency\")"
   ]
  },
  {
   "cell_type": "code",
   "execution_count": null,
   "metadata": {},
   "outputs": [],
   "source": []
  }
 ],
 "metadata": {
  "kernelspec": {
   "display_name": "Python 3",
   "language": "python",
   "name": "python3"
  },
  "language_info": {
   "codemirror_mode": {
    "name": "ipython",
    "version": 3
   },
   "file_extension": ".py",
   "mimetype": "text/x-python",
   "name": "python",
   "nbconvert_exporter": "python",
   "pygments_lexer": "ipython3",
   "version": "3.7.9"
  },
  "varInspector": {
   "cols": {
    "lenName": 16,
    "lenType": 16,
    "lenVar": 40
   },
   "kernels_config": {
    "python": {
     "delete_cmd_postfix": "",
     "delete_cmd_prefix": "del ",
     "library": "var_list.py",
     "varRefreshCmd": "print(var_dic_list())"
    },
    "r": {
     "delete_cmd_postfix": ") ",
     "delete_cmd_prefix": "rm(",
     "library": "var_list.r",
     "varRefreshCmd": "cat(var_dic_list()) "
    }
   },
   "types_to_exclude": [
    "module",
    "function",
    "builtin_function_or_method",
    "instance",
    "_Feature"
   ],
   "window_display": false
  }
 },
 "nbformat": 4,
 "nbformat_minor": 4
}
